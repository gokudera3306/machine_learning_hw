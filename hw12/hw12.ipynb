{
 "nbformat": 4,
 "nbformat_minor": 0,
 "metadata": {
  "colab": {
   "provenance": []
  },
  "kernelspec": {
   "name": "python3",
   "language": "python",
   "display_name": "Python 3 (ipykernel)"
  },
  "gpuClass": "standard",
  "widgets": {
   "application/vnd.jupyter.widget-state+json": {
    "a75e87122a4c4b2fa75a69b27b0f9111": {
     "model_module": "@jupyter-widgets/controls",
     "model_name": "HBoxModel",
     "model_module_version": "1.5.0",
     "state": {
      "_dom_classes": [],
      "_model_module": "@jupyter-widgets/controls",
      "_model_module_version": "1.5.0",
      "_model_name": "HBoxModel",
      "_view_count": null,
      "_view_module": "@jupyter-widgets/controls",
      "_view_module_version": "1.5.0",
      "_view_name": "HBoxView",
      "box_style": "",
      "children": [
       "IPY_MODEL_ff52d7994d7848429da4dc9078d2f228",
       "IPY_MODEL_194b9ffbe5c8431ba02221e5f8f1e315",
       "IPY_MODEL_d961617cc2924a70ae866bf25c1643bb"
      ],
      "layout": "IPY_MODEL_66b62bd445394f90914856c4e6ffad8a"
     }
    },
    "ff52d7994d7848429da4dc9078d2f228": {
     "model_module": "@jupyter-widgets/controls",
     "model_name": "HTMLModel",
     "model_module_version": "1.5.0",
     "state": {
      "_dom_classes": [],
      "_model_module": "@jupyter-widgets/controls",
      "_model_module_version": "1.5.0",
      "_model_name": "HTMLModel",
      "_view_count": null,
      "_view_module": "@jupyter-widgets/controls",
      "_view_module_version": "1.5.0",
      "_view_name": "HTMLView",
      "description": "",
      "description_tooltip": null,
      "layout": "IPY_MODEL_bf39b080df3c4a9c9136740f657b0f79",
      "placeholder": "​",
      "style": "IPY_MODEL_ad74a83a0e534484a27a1ff7b981c62a",
      "value": "Total: -179.2, Final: -100.0: 100%"
     }
    },
    "194b9ffbe5c8431ba02221e5f8f1e315": {
     "model_module": "@jupyter-widgets/controls",
     "model_name": "FloatProgressModel",
     "model_module_version": "1.5.0",
     "state": {
      "_dom_classes": [],
      "_model_module": "@jupyter-widgets/controls",
      "_model_module_version": "1.5.0",
      "_model_name": "FloatProgressModel",
      "_view_count": null,
      "_view_module": "@jupyter-widgets/controls",
      "_view_module_version": "1.5.0",
      "_view_name": "ProgressView",
      "bar_style": "success",
      "description": "",
      "description_tooltip": null,
      "layout": "IPY_MODEL_a86cc078ee82412393be06fbb41dc603",
      "max": 100,
      "min": 0,
      "orientation": "horizontal",
      "style": "IPY_MODEL_6af646edfbed423a893eb4ff5a80dc65",
      "value": 100
     }
    },
    "d961617cc2924a70ae866bf25c1643bb": {
     "model_module": "@jupyter-widgets/controls",
     "model_name": "HTMLModel",
     "model_module_version": "1.5.0",
     "state": {
      "_dom_classes": [],
      "_model_module": "@jupyter-widgets/controls",
      "_model_module_version": "1.5.0",
      "_model_name": "HTMLModel",
      "_view_count": null,
      "_view_module": "@jupyter-widgets/controls",
      "_view_module_version": "1.5.0",
      "_view_name": "HTMLView",
      "description": "",
      "description_tooltip": null,
      "layout": "IPY_MODEL_5805cbaeef104932bbc2886796b99a5c",
      "placeholder": "​",
      "style": "IPY_MODEL_76be8412fdd94bb99c9b071764057b9b",
      "value": " 100/100 [01:40&lt;00:00,  2.27s/it]"
     }
    },
    "66b62bd445394f90914856c4e6ffad8a": {
     "model_module": "@jupyter-widgets/base",
     "model_name": "LayoutModel",
     "model_module_version": "1.2.0",
     "state": {
      "_model_module": "@jupyter-widgets/base",
      "_model_module_version": "1.2.0",
      "_model_name": "LayoutModel",
      "_view_count": null,
      "_view_module": "@jupyter-widgets/base",
      "_view_module_version": "1.2.0",
      "_view_name": "LayoutView",
      "align_content": null,
      "align_items": null,
      "align_self": null,
      "border": null,
      "bottom": null,
      "display": null,
      "flex": null,
      "flex_flow": null,
      "grid_area": null,
      "grid_auto_columns": null,
      "grid_auto_flow": null,
      "grid_auto_rows": null,
      "grid_column": null,
      "grid_gap": null,
      "grid_row": null,
      "grid_template_areas": null,
      "grid_template_columns": null,
      "grid_template_rows": null,
      "height": null,
      "justify_content": null,
      "justify_items": null,
      "left": null,
      "margin": null,
      "max_height": null,
      "max_width": null,
      "min_height": null,
      "min_width": null,
      "object_fit": null,
      "object_position": null,
      "order": null,
      "overflow": null,
      "overflow_x": null,
      "overflow_y": null,
      "padding": null,
      "right": null,
      "top": null,
      "visibility": null,
      "width": null
     }
    },
    "bf39b080df3c4a9c9136740f657b0f79": {
     "model_module": "@jupyter-widgets/base",
     "model_name": "LayoutModel",
     "model_module_version": "1.2.0",
     "state": {
      "_model_module": "@jupyter-widgets/base",
      "_model_module_version": "1.2.0",
      "_model_name": "LayoutModel",
      "_view_count": null,
      "_view_module": "@jupyter-widgets/base",
      "_view_module_version": "1.2.0",
      "_view_name": "LayoutView",
      "align_content": null,
      "align_items": null,
      "align_self": null,
      "border": null,
      "bottom": null,
      "display": null,
      "flex": null,
      "flex_flow": null,
      "grid_area": null,
      "grid_auto_columns": null,
      "grid_auto_flow": null,
      "grid_auto_rows": null,
      "grid_column": null,
      "grid_gap": null,
      "grid_row": null,
      "grid_template_areas": null,
      "grid_template_columns": null,
      "grid_template_rows": null,
      "height": null,
      "justify_content": null,
      "justify_items": null,
      "left": null,
      "margin": null,
      "max_height": null,
      "max_width": null,
      "min_height": null,
      "min_width": null,
      "object_fit": null,
      "object_position": null,
      "order": null,
      "overflow": null,
      "overflow_x": null,
      "overflow_y": null,
      "padding": null,
      "right": null,
      "top": null,
      "visibility": null,
      "width": null
     }
    },
    "ad74a83a0e534484a27a1ff7b981c62a": {
     "model_module": "@jupyter-widgets/controls",
     "model_name": "DescriptionStyleModel",
     "model_module_version": "1.5.0",
     "state": {
      "_model_module": "@jupyter-widgets/controls",
      "_model_module_version": "1.5.0",
      "_model_name": "DescriptionStyleModel",
      "_view_count": null,
      "_view_module": "@jupyter-widgets/base",
      "_view_module_version": "1.2.0",
      "_view_name": "StyleView",
      "description_width": ""
     }
    },
    "a86cc078ee82412393be06fbb41dc603": {
     "model_module": "@jupyter-widgets/base",
     "model_name": "LayoutModel",
     "model_module_version": "1.2.0",
     "state": {
      "_model_module": "@jupyter-widgets/base",
      "_model_module_version": "1.2.0",
      "_model_name": "LayoutModel",
      "_view_count": null,
      "_view_module": "@jupyter-widgets/base",
      "_view_module_version": "1.2.0",
      "_view_name": "LayoutView",
      "align_content": null,
      "align_items": null,
      "align_self": null,
      "border": null,
      "bottom": null,
      "display": null,
      "flex": null,
      "flex_flow": null,
      "grid_area": null,
      "grid_auto_columns": null,
      "grid_auto_flow": null,
      "grid_auto_rows": null,
      "grid_column": null,
      "grid_gap": null,
      "grid_row": null,
      "grid_template_areas": null,
      "grid_template_columns": null,
      "grid_template_rows": null,
      "height": null,
      "justify_content": null,
      "justify_items": null,
      "left": null,
      "margin": null,
      "max_height": null,
      "max_width": null,
      "min_height": null,
      "min_width": null,
      "object_fit": null,
      "object_position": null,
      "order": null,
      "overflow": null,
      "overflow_x": null,
      "overflow_y": null,
      "padding": null,
      "right": null,
      "top": null,
      "visibility": null,
      "width": null
     }
    },
    "6af646edfbed423a893eb4ff5a80dc65": {
     "model_module": "@jupyter-widgets/controls",
     "model_name": "ProgressStyleModel",
     "model_module_version": "1.5.0",
     "state": {
      "_model_module": "@jupyter-widgets/controls",
      "_model_module_version": "1.5.0",
      "_model_name": "ProgressStyleModel",
      "_view_count": null,
      "_view_module": "@jupyter-widgets/base",
      "_view_module_version": "1.2.0",
      "_view_name": "StyleView",
      "bar_color": null,
      "description_width": ""
     }
    },
    "5805cbaeef104932bbc2886796b99a5c": {
     "model_module": "@jupyter-widgets/base",
     "model_name": "LayoutModel",
     "model_module_version": "1.2.0",
     "state": {
      "_model_module": "@jupyter-widgets/base",
      "_model_module_version": "1.2.0",
      "_model_name": "LayoutModel",
      "_view_count": null,
      "_view_module": "@jupyter-widgets/base",
      "_view_module_version": "1.2.0",
      "_view_name": "LayoutView",
      "align_content": null,
      "align_items": null,
      "align_self": null,
      "border": null,
      "bottom": null,
      "display": null,
      "flex": null,
      "flex_flow": null,
      "grid_area": null,
      "grid_auto_columns": null,
      "grid_auto_flow": null,
      "grid_auto_rows": null,
      "grid_column": null,
      "grid_gap": null,
      "grid_row": null,
      "grid_template_areas": null,
      "grid_template_columns": null,
      "grid_template_rows": null,
      "height": null,
      "justify_content": null,
      "justify_items": null,
      "left": null,
      "margin": null,
      "max_height": null,
      "max_width": null,
      "min_height": null,
      "min_width": null,
      "object_fit": null,
      "object_position": null,
      "order": null,
      "overflow": null,
      "overflow_x": null,
      "overflow_y": null,
      "padding": null,
      "right": null,
      "top": null,
      "visibility": null,
      "width": null
     }
    },
    "76be8412fdd94bb99c9b071764057b9b": {
     "model_module": "@jupyter-widgets/controls",
     "model_name": "DescriptionStyleModel",
     "model_module_version": "1.5.0",
     "state": {
      "_model_module": "@jupyter-widgets/controls",
      "_model_module_version": "1.5.0",
      "_model_name": "DescriptionStyleModel",
      "_view_count": null,
      "_view_module": "@jupyter-widgets/base",
      "_view_module_version": "1.2.0",
      "_view_name": "StyleView",
      "description_width": ""
     }
    }
   }
  }
 },
 "cells": [
  {
   "cell_type": "markdown",
   "metadata": {
    "id": "Fp30SB4bxeQb"
   },
   "source": [
    "# **Homework 12 - Reinforcement Learning**\n",
    "\n",
    "If you have any problem, e-mail us at mlta-2023-spring@googlegroups.com\n",
    "\n"
   ]
  },
  {
   "cell_type": "markdown",
   "metadata": {
    "id": "yXsnCWPtWSNk"
   },
   "source": [
    "## Preliminary work\n",
    "\n",
    "First, we need to install all necessary packages.\n",
    "One of them, gym, builded by OpenAI, is a toolkit for developing Reinforcement Learning algorithm. Other packages are for visualization in colab."
   ]
  },
  {
   "cell_type": "code",
   "metadata": {
    "colab": {
     "base_uri": "https://localhost:8080/"
    },
    "id": "5e2bScpnkVbv",
    "outputId": "3664b9aa-2a3e-4bba-a268-2c9871efc7ab",
    "ExecuteTime": {
     "end_time": "2023-06-12T14:30:54.781813342Z",
     "start_time": "2023-06-12T14:30:49.247986796Z"
    }
   },
   "source": [
    "!apt update\n",
    "!apt install python-opengl xvfb -y\n",
    "!pip install -q swig\n",
    "!pip install box2d==2.3.2 gym[box2d]==0.25.2 box2d-py pyvirtualdisplay tqdm numpy==1.22.4 \n",
    "!pip install box2d==2.3.2 box2d-kengz\n",
    "!pip freeze > requirements.txt\n"
   ],
   "execution_count": 3,
   "outputs": [
    {
     "name": "stdout",
     "output_type": "stream",
     "text": [
      "Reading package lists... Done\r\n",
      "\u001B[1;31mE: \u001B[0mCould not open lock file /var/lib/apt/lists/lock - open (13: Permission denied)\u001B[0m\r\n",
      "\u001B[1;31mE: \u001B[0mUnable to lock directory /var/lib/apt/lists/\u001B[0m\r\n",
      "\u001B[1;33mW: \u001B[0mProblem unlinking the file /var/cache/apt/pkgcache.bin - RemoveCaches (13: Permission denied)\u001B[0m\r\n",
      "\u001B[1;33mW: \u001B[0mProblem unlinking the file /var/cache/apt/srcpkgcache.bin - RemoveCaches (13: Permission denied)\u001B[0m\r\n",
      "\u001B[1;31mE: \u001B[0mCould not open lock file /var/lib/dpkg/lock-frontend - open (13: Permission denied)\u001B[0m\r\n",
      "\u001B[1;31mE: \u001B[0mUnable to acquire the dpkg frontend lock (/var/lib/dpkg/lock-frontend), are you root?\u001B[0m\r\n",
      "Requirement already satisfied: box2d==2.3.2 in /home/adam/anaconda3/envs/dlenv/lib/python3.9/site-packages (2.3.2)\r\n",
      "Requirement already satisfied: gym[box2d]==0.25.2 in /home/adam/anaconda3/envs/dlenv/lib/python3.9/site-packages (0.25.2)\r\n",
      "Requirement already satisfied: box2d-py in /home/adam/anaconda3/envs/dlenv/lib/python3.9/site-packages (2.3.5)\r\n",
      "Requirement already satisfied: pyvirtualdisplay in /home/adam/anaconda3/envs/dlenv/lib/python3.9/site-packages (3.0)\r\n",
      "Requirement already satisfied: tqdm in /home/adam/anaconda3/envs/dlenv/lib/python3.9/site-packages (4.64.1)\r\n",
      "Collecting numpy==1.22.4\r\n",
      "  Using cached numpy-1.22.4-cp39-cp39-manylinux_2_17_x86_64.manylinux2014_x86_64.whl (16.8 MB)\r\n",
      "Requirement already satisfied: cloudpickle>=1.2.0 in /home/adam/anaconda3/envs/dlenv/lib/python3.9/site-packages (from gym[box2d]==0.25.2) (2.2.1)\r\n",
      "Requirement already satisfied: importlib-metadata>=4.8.0 in /home/adam/anaconda3/envs/dlenv/lib/python3.9/site-packages (from gym[box2d]==0.25.2) (6.0.0)\r\n",
      "Requirement already satisfied: gym-notices>=0.0.4 in /home/adam/anaconda3/envs/dlenv/lib/python3.9/site-packages (from gym[box2d]==0.25.2) (0.0.8)\r\n",
      "Requirement already satisfied: swig==4.* in /home/adam/anaconda3/envs/dlenv/lib/python3.9/site-packages (from gym[box2d]==0.25.2) (4.1.1)\r\n",
      "Requirement already satisfied: pygame==2.1.0 in /home/adam/anaconda3/envs/dlenv/lib/python3.9/site-packages (from gym[box2d]==0.25.2) (2.1.0)\r\n",
      "Requirement already satisfied: zipp>=0.5 in /home/adam/anaconda3/envs/dlenv/lib/python3.9/site-packages (from importlib-metadata>=4.8.0->gym[box2d]==0.25.2) (3.11.0)\r\n",
      "Installing collected packages: numpy\r\n",
      "  Attempting uninstall: numpy\r\n",
      "    Found existing installation: numpy 1.24.3\r\n",
      "    Uninstalling numpy-1.24.3:\r\n",
      "      Successfully uninstalled numpy-1.24.3\r\n",
      "\u001B[31mERROR: pip's dependency resolver does not currently take into account all the packages that are installed. This behaviour is the source of the following dependency conflicts.\r\n",
      "tensorboard 2.11.0 requires protobuf<4,>=3.9.2, but you have protobuf 4.23.1 which is incompatible.\u001B[0m\u001B[31m\r\n",
      "\u001B[0mSuccessfully installed numpy-1.22.4\r\n",
      "Requirement already satisfied: box2d==2.3.2 in /home/adam/anaconda3/envs/dlenv/lib/python3.9/site-packages (2.3.2)\r\n",
      "Requirement already satisfied: box2d-kengz in /home/adam/anaconda3/envs/dlenv/lib/python3.9/site-packages (2.3.3)\r\n"
     ]
    }
   ]
  },
  {
   "cell_type": "markdown",
   "metadata": {
    "id": "M_-i3cdoYsks"
   },
   "source": [
    "\n",
    "Next, set up virtual display，and import all necessaary packages."
   ]
  },
  {
   "cell_type": "code",
   "metadata": {
    "id": "nl2nREINDLiw",
    "ExecuteTime": {
     "end_time": "2023-06-15T06:40:13.548152080Z",
     "start_time": "2023-06-15T06:40:12.797010954Z"
    }
   },
   "source": [
    "%%capture\n",
    "from pyvirtualdisplay import Display\n",
    "virtual_display = Display(visible=0, size=(1400, 900))\n",
    "virtual_display.start()\n",
    "\n",
    "%matplotlib inline\n",
    "import matplotlib.pyplot as plt\n",
    "\n",
    "from IPython import display\n",
    "\n",
    "import numpy as np\n",
    "import torch\n",
    "import torch.nn as nn\n",
    "import torch.optim as optim\n",
    "import torch.nn.functional as F\n",
    "from torch.distributions import Categorical\n",
    "from tqdm.notebook import tqdm"
   ],
   "execution_count": 1,
   "outputs": []
  },
  {
   "cell_type": "markdown",
   "metadata": {
    "id": "CaEJ8BUCpN9P"
   },
   "source": [
    "# Warning ! Do not revise random seed !!!\n",
    "# Your submission on JudgeBoi will not reproduce your result !!!\n",
    "Make your HW result to be reproducible.\n"
   ]
  },
  {
   "cell_type": "code",
   "metadata": {
    "id": "fV9i8i2YkRbO",
    "ExecuteTime": {
     "end_time": "2023-06-15T06:40:14.144710749Z",
     "start_time": "2023-06-15T06:40:14.136920537Z"
    }
   },
   "source": [
    "seed = 2023 # Do not change this\n",
    "def fix(env, seed):\n",
    "  env.seed(seed)\n",
    "  env.action_space.seed(seed)\n",
    "  torch.backends.cudnn.deterministic = True\n",
    "  torch.backends.cudnn.benchmark = False\n",
    "  np.random.seed(seed)\n",
    "  torch.manual_seed(seed)\n",
    "  if torch.cuda.is_available():\n",
    "      torch.cuda.manual_seed_all(seed)"
   ],
   "execution_count": 2,
   "outputs": []
  },
  {
   "cell_type": "markdown",
   "metadata": {
    "id": "He0XDx6bzjgC"
   },
   "source": [
    "Last, call gym and build an [Lunar Lander](https://gym.openai.com/envs/LunarLander-v2/) environment."
   ]
  },
  {
   "cell_type": "code",
   "metadata": {
    "id": "N_4-xJcbBt09",
    "ExecuteTime": {
     "end_time": "2023-06-15T06:40:16.031133955Z",
     "start_time": "2023-06-15T06:40:15.845413913Z"
    }
   },
   "source": [
    "%%capture\n",
    "import gym\n",
    "import random\n",
    "env = gym.make('LunarLander-v2')\n",
    "fix(env, seed) # fix the environment Do not revise this !!!"
   ],
   "execution_count": 3,
   "outputs": []
  },
  {
   "cell_type": "markdown",
   "metadata": {
    "id": "NrkVvTrvWZ5H"
   },
   "source": [
    "## What Lunar Lander？\n",
    "\n",
    "“LunarLander-v2”is to simulate the situation when the craft lands on the surface of the moon.\n",
    "\n",
    "This task is to enable the craft to land \"safely\" at the pad between the two yellow flags.\n",
    "> Landing pad is always at coordinates (0,0).\n",
    "> Coordinates are the first two numbers in state vector.\n",
    "\n",
    "![](https://gym.openai.com/assets/docs/aeloop-138c89d44114492fd02822303e6b4b07213010bb14ca5856d2d49d6b62d88e53.svg)\n",
    "\n",
    "\"LunarLander-v2\" actually includes \"Agent\" and \"Environment\". \n",
    "\n",
    "In this homework, we will utilize the function `step()` to control the action of \"Agent\". \n",
    "\n",
    "Then `step()` will return the observation/state and reward given by the \"Environment\"."
   ]
  },
  {
   "cell_type": "markdown",
   "metadata": {
    "id": "bIbp82sljvAt"
   },
   "source": [
    "### Observation / State\n",
    "\n",
    "First, we can take a look at what an Observation / State looks like."
   ]
  },
  {
   "cell_type": "code",
   "metadata": {
    "colab": {
     "base_uri": "https://localhost:8080/"
    },
    "id": "rsXZra3N9R5T",
    "outputId": "a36b4dd1-fc58-420d-d5d1-84db2ab3fe28",
    "ExecuteTime": {
     "end_time": "2023-06-15T06:40:18.471162992Z",
     "start_time": "2023-06-15T06:40:18.469111303Z"
    }
   },
   "source": [
    "print(env.observation_space)"
   ],
   "execution_count": 4,
   "outputs": [
    {
     "name": "stdout",
     "output_type": "stream",
     "text": [
      "Box([-1.5       -1.5       -5.        -5.        -3.1415927 -5.\n",
      " -0.        -0.       ], [1.5       1.5       5.        5.        3.1415927 5.        1.\n",
      " 1.       ], (8,), float32)\n"
     ]
    }
   ]
  },
  {
   "cell_type": "markdown",
   "metadata": {
    "id": "ezdfoThbAQ49"
   },
   "source": [
    "\n",
    "`Box(8,)`means that observation is an 8-dim vector\n",
    "### Action\n",
    "\n",
    "Actions can be taken by looks like"
   ]
  },
  {
   "cell_type": "code",
   "metadata": {
    "id": "p1k4dIrBAaKi",
    "colab": {
     "base_uri": "https://localhost:8080/"
    },
    "outputId": "1a7cecb7-385f-450c-c11c-07c32ccd5a8a",
    "ExecuteTime": {
     "end_time": "2023-06-15T06:40:19.305292882Z",
     "start_time": "2023-06-15T06:40:19.297728967Z"
    }
   },
   "source": [
    "print(env.action_space)"
   ],
   "execution_count": 5,
   "outputs": [
    {
     "name": "stdout",
     "output_type": "stream",
     "text": [
      "Discrete(4)\n"
     ]
    }
   ]
  },
  {
   "cell_type": "markdown",
   "metadata": {
    "id": "dejXT6PHBrPn"
   },
   "source": [
    "`Discrete(4)` implies that there are four kinds of actions can be taken by agent.\n",
    "- 0 implies the agent will not take any actions\n",
    "- 2 implies the agent will accelerate downward\n",
    "- 1, 3 implies the agent will accelerate left and right\n",
    "\n",
    "Next, we will try to make the agent interact with the environment. \n",
    "Before taking any actions, we recommend to call `reset()` function to reset the environment. Also, this function will return the initial state of the environment."
   ]
  },
  {
   "cell_type": "code",
   "metadata": {
    "id": "pi4OmrmZgnWA",
    "colab": {
     "base_uri": "https://localhost:8080/"
    },
    "outputId": "ecd0b477-c7d3-4a34-ddb8-0eadd5cb9147",
    "ExecuteTime": {
     "end_time": "2023-06-15T06:40:19.999420465Z",
     "start_time": "2023-06-15T06:40:19.995850948Z"
    }
   },
   "source": [
    "initial_state = env.reset()\n",
    "print(initial_state)"
   ],
   "execution_count": 6,
   "outputs": [
    {
     "name": "stdout",
     "output_type": "stream",
     "text": [
      "[-0.00506535  1.413064   -0.5130838   0.09527162  0.00587628  0.11622101\n",
      "  0.          0.        ]\n"
     ]
    }
   ]
  },
  {
   "cell_type": "markdown",
   "metadata": {
    "id": "uBx0mEqqgxJ9"
   },
   "source": [
    "Then, we try to get a random action from the agent's action space."
   ]
  },
  {
   "cell_type": "code",
   "metadata": {
    "id": "vxkOEXRKgizt",
    "colab": {
     "base_uri": "https://localhost:8080/"
    },
    "outputId": "9bd00d32-f7bd-4b76-eeea-7bdd935597b4",
    "ExecuteTime": {
     "end_time": "2023-06-15T06:40:21.197603119Z",
     "start_time": "2023-06-15T06:40:21.191069798Z"
    }
   },
   "source": [
    "random_action = env.action_space.sample()\n",
    "print(random_action)"
   ],
   "execution_count": 7,
   "outputs": [
    {
     "name": "stdout",
     "output_type": "stream",
     "text": [
      "1\n"
     ]
    }
   ]
  },
  {
   "cell_type": "markdown",
   "metadata": {
    "id": "mns-bO01g0-J"
   },
   "source": [
    "More, we can utilize `step()` to make agent act according to the randomly-selected `random_action`.\n",
    "The `step()` function will return four values:\n",
    "- observation / state\n",
    "- reward\n",
    "- done (True/ False)\n",
    "- Other information"
   ]
  },
  {
   "cell_type": "code",
   "metadata": {
    "id": "E_WViSxGgIk9",
    "ExecuteTime": {
     "end_time": "2023-06-15T06:40:22.809895584Z",
     "start_time": "2023-06-15T06:40:22.805549101Z"
    }
   },
   "source": [
    "observation, reward, done, info = env.step(random_action)"
   ],
   "execution_count": 8,
   "outputs": []
  },
  {
   "cell_type": "code",
   "metadata": {
    "id": "yK7r126kuCNp",
    "colab": {
     "base_uri": "https://localhost:8080/"
    },
    "outputId": "cf191223-aabf-48b7-8393-114f0df9dcad",
    "ExecuteTime": {
     "end_time": "2023-06-15T06:40:23.537946032Z",
     "start_time": "2023-06-15T06:40:23.532954778Z"
    }
   },
   "source": [
    "print(done)"
   ],
   "execution_count": 9,
   "outputs": [
    {
     "name": "stdout",
     "output_type": "stream",
     "text": [
      "False\n"
     ]
    }
   ]
  },
  {
   "cell_type": "markdown",
   "metadata": {
    "id": "GKdS8vOihxhc"
   },
   "source": [
    "### Reward\n",
    "\n",
    "\n",
    "> Landing pad is always at coordinates (0,0). Coordinates are the first two numbers in state vector. Reward for moving from the top of the screen to landing pad and zero speed is about 100..140 points. If lander moves away from landing pad it loses reward back. Episode finishes if the lander crashes or comes to rest, receiving additional -100 or +100 points. Each leg ground contact is +10. Firing main engine is -0.3 points each frame. Solved is 200 points. "
   ]
  },
  {
   "cell_type": "code",
   "metadata": {
    "id": "vxQNs77hi0_7",
    "colab": {
     "base_uri": "https://localhost:8080/"
    },
    "outputId": "9a260648-5c49-4b76-c94f-985a2ce65cf8",
    "ExecuteTime": {
     "end_time": "2023-06-15T06:40:24.292454634Z",
     "start_time": "2023-06-15T06:40:24.289521886Z"
    }
   },
   "source": [
    "print(reward)"
   ],
   "execution_count": 10,
   "outputs": [
    {
     "name": "stdout",
     "output_type": "stream",
     "text": [
      "-1.4981841929643156\n"
     ]
    }
   ]
  },
  {
   "cell_type": "markdown",
   "metadata": {
    "id": "Mhqp6D-XgHpe"
   },
   "source": [
    "### Random Agent\n",
    "In the end, before we start training, we can see whether a random agent can successfully land the moon or not."
   ]
  },
  {
   "cell_type": "code",
   "metadata": {
    "id": "Y3G0bxoccelv",
    "colab": {
     "base_uri": "https://localhost:8080/",
     "height": 396
    },
    "outputId": "442108bc-db1c-4033-9cee-c2b6c084be52"
   },
   "source": [
    "env.reset()\n",
    "\n",
    "img = plt.imshow(env.render(mode='rgb_array'))\n",
    "\n",
    "done = False\n",
    "while not done:\n",
    "    action = env.action_space.sample()\n",
    "    observation, reward, done, _ = env.step(action)\n",
    "\n",
    "    img.set_data(env.render(mode='rgb_array'))\n",
    "    display.display(plt.gcf())\n",
    "    display.clear_output(wait=True)"
   ],
   "execution_count": 11,
   "outputs": [
    {
     "data": {
      "text/plain": "<Figure size 640x480 with 1 Axes>",
      "image/png": "[encoded data removed]"
     },
     "metadata": {},
     "output_type": "display_data"
    }
   ]
  },
  {
   "cell_type": "markdown",
   "metadata": {
    "id": "F5paWqo7tWL2"
   },
   "source": [
    "## Policy Gradient\n",
    "Now, we can build a simple policy network. The network will return one of action in the action space."
   ]
  },
  {
   "cell_type": "markdown",
   "source": [
    "class PolicyGradientNetwork(nn.Module):\n",
    "\n",
    "    def __init__(self):\n",
    "        super().__init__()\n",
    "        self.fc1 = nn.Linear(8, 32)\n",
    "        self.fc2 = nn.Linear(16, 16)\n",
    "        self.fc3 = nn.Linear(32, 4)\n",
    "\n",
    "    def forward(self, state):\n",
    "        hid = torch.tanh(self.fc1(state))\n",
    "        hid = torch.tanh(hid)\n",
    "        return F.softmax(self.fc3(hid), dim=-1)"
   ],
   "metadata": {
    "collapsed": false
   }
  },
  {
   "cell_type": "markdown",
   "metadata": {
    "id": "ynbqJrhIFTC3"
   },
   "source": [
    "Then, we need to build a simple agent. The agent will acts according to the output of the policy network above. There are a few things can be done by agent:\n",
    "- `learn()`：update the policy network from log probabilities and rewards.\n",
    "- `sample()`：After receiving observation from the environment, utilize policy network to tell which action to take. The return values of this function includes action and log probabilities. "
   ]
  },
  {
   "cell_type": "markdown",
   "source": [
    "from torch.optim.lr_scheduler import StepLR\n",
    "class PolicyGradientAgent():\n",
    "    \n",
    "    def __init__(self, network):\n",
    "        self.network = network\n",
    "        self.optimizer = optim.SGD(self.network.parameters(), lr=0.002)\n",
    "        \n",
    "    def forward(self, state):\n",
    "        return self.network(state)\n",
    "    def learn(self, log_probs, rewards):\n",
    "        loss = (-log_probs * rewards).sum() # You don't need to revise this to pass simple baseline (but you can)\n",
    "\n",
    "        self.optimizer.zero_grad()\n",
    "        loss.backward()\n",
    "        self.optimizer.step()\n",
    "        \n",
    "    def sample(self, state):\n",
    "        action_prob = self.network(torch.FloatTensor(state))\n",
    "        action_dist = Categorical(action_prob)\n",
    "        action = action_dist.sample()\n",
    "        log_prob = action_dist.log_prob(action)\n",
    "        return action.item(), log_prob"
   ],
   "metadata": {
    "collapsed": false
   }
  },
  {
   "cell_type": "markdown",
   "source": [
    "## Actor-critic"
   ],
   "metadata": {
    "collapsed": false
   }
  },
  {
   "cell_type": "code",
   "execution_count": 14,
   "outputs": [],
   "source": [
    "class ActorCritic(nn.Module):\n",
    "    def __init__(self):\n",
    "        super(ActorCritic, self).__init__()\n",
    "        self.affine = nn.Linear(8, 512)\n",
    "        # self.affine = nn.Sequential(\n",
    "        #     nn.Linear(8, 16),\n",
    "        # )\n",
    "\n",
    "        self.action_layer = nn.Linear(512, 4)\n",
    "        self.value_layer = nn.Linear(512, 1)\n",
    "        # self.action_layer = nn.Sequential(\n",
    "        #     nn.Linear(16, 16),\n",
    "        #     nn.Linear(16, 4),\n",
    "        # )\n",
    "        # self.value_layer = nn.Sequential(\n",
    "        #     nn.Linear(16, 16),\n",
    "        #     nn.Linear(16, 1),\n",
    "        # )\n",
    "\n",
    "        self.logprobs = []\n",
    "        self.state_values = []\n",
    "        self.rewards = []\n",
    "\n",
    "    def forward(self, state):\n",
    "        state = torch.from_numpy(state).float()\n",
    "        state = F.relu(self.affine(state))\n",
    "\n",
    "        state_value = self.value_layer(state)\n",
    "\n",
    "        action_probs = F.softmax(self.action_layer(state))\n",
    "        action_distribution = Categorical(action_probs)\n",
    "        action = action_distribution.sample()\n",
    "\n",
    "        self.logprobs.append(action_distribution.log_prob(action))\n",
    "        self.state_values.append(state_value)\n",
    "\n",
    "        return action.item()\n",
    "\n",
    "    def calculateLoss(self, gamma=0.99):\n",
    "\n",
    "        # calculating discounted rewards:\n",
    "        rewards = []\n",
    "        dis_reward = 0\n",
    "        for reward in self.rewards[::-1]:\n",
    "            dis_reward = reward + gamma * dis_reward\n",
    "            rewards.insert(0, dis_reward)\n",
    "\n",
    "        # normalizing the rewards:\n",
    "        rewards = torch.tensor(rewards)\n",
    "        rewards = (rewards - rewards.mean()) / (rewards.std())\n",
    "\n",
    "        loss = 0\n",
    "        for logprob, value, reward in zip(self.logprobs, self.state_values, rewards):\n",
    "            advantage = reward  - value.item()\n",
    "            action_loss = -logprob * advantage\n",
    "            value_loss = F.smooth_l1_loss(value, reward)\n",
    "            loss += (action_loss + value_loss)\n",
    "        return loss\n",
    "\n",
    "    def clearMemory(self):\n",
    "        del self.logprobs[:]\n",
    "        del self.state_values[:]\n",
    "        del self.rewards[:]"
   ],
   "metadata": {
    "collapsed": false,
    "ExecuteTime": {
     "end_time": "2023-06-15T06:40:35.413570358Z",
     "start_time": "2023-06-15T06:40:35.410922801Z"
    }
   }
  },
  {
   "cell_type": "markdown",
   "metadata": {
    "id": "ehPlnTKyRZf9"
   },
   "source": [
    "Lastly, build a network and agent to start training."
   ]
  },
  {
   "cell_type": "markdown",
   "source": [
    "network = PolicyGradientNetwork()\n",
    "agent = PolicyGradientAgent(network)"
   ],
   "metadata": {
    "collapsed": false
   }
  },
  {
   "cell_type": "markdown",
   "metadata": {
    "id": "ouv23glgf5Qt"
   },
   "source": [
    "## Training Agent\n",
    "\n",
    "Now let's start to train our agent.\n",
    "Through taking all the interactions between agent and environment as training data, the policy network can learn from all these attempts,"
   ]
  },
  {
   "cell_type": "code",
   "execution_count": 16,
   "outputs": [
    {
     "data": {
      "text/plain": "  0%|          | 0/5000 [00:00<?, ?it/s]",
      "application/vnd.jupyter.widget-view+json": {
       "version_major": 2,
       "version_minor": 0,
       "model_id": "0825520010e64f63868117da6767db13"
      }
     },
     "metadata": {},
     "output_type": "display_data"
    },
    {
     "name": "stderr",
     "output_type": "stream",
     "text": [
      "/tmp/ipykernel_156560/2282708542.py:30: UserWarning: Implicit dimension choice for softmax has been deprecated. Change the call to include dim=X as an argument.\n",
      "  action_probs = F.softmax(self.action_layer(state))\n",
      "/tmp/ipykernel_156560/2282708542.py:56: UserWarning: Using a target size (torch.Size([])) that is different to the input size (torch.Size([1])). This will likely lead to incorrect results due to broadcasting. Please ensure they have the same size.\n",
      "  value_loss = F.smooth_l1_loss(value, reward)\n"
     ]
    }
   ],
   "source": [
    "EPISODE_PER_BATCH = 5  # update the  agent every 5 episode\n",
    "NUM_BATCH = 5000        # totally update the agent for 500 time\n",
    "gamma = 0.95\n",
    "lr = 0.01\n",
    "betas = (0.9, 0.999)\n",
    "\n",
    "policy = ActorCritic()\n",
    "\n",
    "current_best = 250\n",
    "avg_total_rewards, avg_final_rewards = [], []\n",
    "\n",
    "prg_bar = tqdm(range(NUM_BATCH))\n",
    "for batch in prg_bar:\n",
    "\n",
    "    log_probs, rewards = [], []\n",
    "    total_rewards, final_rewards = [], []\n",
    "\n",
    "    optimizer = optim.Adam(policy.parameters(), lr=lr, betas=betas)\n",
    "\n",
    "    for i_episode in range(0, EPISODE_PER_BATCH):\n",
    "        state = env.reset()\n",
    "        total_reward = 0\n",
    "        for t in range(10000):\n",
    "            action = policy(state)\n",
    "            state, reward, done, _ = env.step(action)\n",
    "            policy.rewards.append(reward)\n",
    "            total_reward += reward\n",
    "            if done:\n",
    "                final_rewards.append(reward)\n",
    "                total_rewards.append(total_reward)\n",
    "                break\n",
    "\n",
    "        # Updating the policy :\n",
    "        optimizer.zero_grad()\n",
    "        loss = policy.calculateLoss()\n",
    "        loss.backward()\n",
    "        optimizer.step()\n",
    "        policy.clearMemory()\n",
    "\n",
    "    # record training process\n",
    "    avg_total_reward = sum(total_rewards) / len(total_rewards)\n",
    "    avg_final_reward = sum(final_rewards) / len(final_rewards)\n",
    "    avg_total_rewards.append(avg_total_reward)\n",
    "    avg_final_rewards.append(avg_final_reward)\n",
    "    prg_bar.set_description(f\"Total: {avg_total_reward: 4.1f}, Final: {avg_final_reward: 4.1f}\")\n",
    "\n",
    "    if avg_total_reward > current_best or avg_total_reward > 290:\n",
    "        torch.save(policy.state_dict(), './LunarLander_{}.pth'.format(avg_total_reward))\n",
    "        current_best = avg_total_reward\n"
   ],
   "metadata": {
    "collapsed": false,
    "ExecuteTime": {
     "end_time": "2023-06-15T07:49:08.943787196Z",
     "start_time": "2023-06-15T06:40:37.896662231Z"
    }
   }
  },
  {
   "cell_type": "markdown",
   "source": [
    "agent.network.train()  # Switch network into training mode \n",
    "EPISODE_PER_BATCH = 5  # update the  agent every 5 episode\n",
    "NUM_BATCH = 550        # totally update the agent for 500 time\n",
    "\n",
    "avg_total_rewards, avg_final_rewards = [], []\n",
    "\n",
    "prg_bar = tqdm(range(NUM_BATCH))\n",
    "for batch in prg_bar:\n",
    "\n",
    "    log_probs, rewards = [], []\n",
    "    total_rewards, final_rewards = [], []\n",
    "\n",
    "    # collect trajectory\n",
    "    for episode in range(EPISODE_PER_BATCH):\n",
    "        \n",
    "        state = env.reset()\n",
    "        total_reward, total_step = 0, 0\n",
    "        seq_rewards = []\n",
    "        while True:\n",
    "\n",
    "            action, log_prob = agent.sample(state) # at, log(at|st)\n",
    "            next_state, reward, done, _ = env.step(action)\n",
    "\n",
    "            log_probs.append(log_prob) # [log(a1|s1), log(a2|s2), ...., log(at|st)]\n",
    "            seq_rewards.append(reward)\n",
    "            state = next_state\n",
    "            total_reward += reward\n",
    "            total_step += 1\n",
    "\n",
    "            # rewards.append(reward) # change here\n",
    "            # ! IMPORTANT !\n",
    "            # Current reward implementation: immediate reward,  given action_list : a1, a2, a3 ......\n",
    "            #                                                         rewards :     r1, r2 ,r3 ......\n",
    "            # medium：change \"rewards\" to accumulative decaying reward, given action_list : a1,                           a2,                           a3, ......\n",
    "            #                                                           rewards :           r1+0.99*r2+0.99^2*r3+......, r2+0.99*r3+0.99^2*r4+...... ,  r3+0.99*r4+0.99^2*r5+ ......\n",
    "            # boss : implement Actor-Critic\n",
    "            if done:\n",
    "                final_rewards.append(reward)\n",
    "                total_rewards.append(total_reward)\n",
    "\n",
    "                seq_rewards.reverse()\n",
    "\n",
    "                for i in range(len(seq_rewards)):\n",
    "                    temp_r = 0\n",
    "                    for r in seq_rewards:\n",
    "                        temp_r = r + temp_r * 0.99\n",
    "                    rewards.append(temp_r)\n",
    "                    seq_rewards.pop()\n",
    "                break\n",
    "\n",
    "    print(f\"rewards looks like \", np.shape(rewards))  \n",
    "    #print(f\"log_probs looks like \", np.shape(log_probs))     \n",
    "    # record training process\n",
    "    avg_total_reward = sum(total_rewards) / len(total_rewards)\n",
    "    avg_final_reward = sum(final_rewards) / len(final_rewards)\n",
    "    avg_total_rewards.append(avg_total_reward)\n",
    "    avg_final_rewards.append(avg_final_reward)\n",
    "    prg_bar.set_description(f\"Total: {avg_total_reward: 4.1f}, Final: {avg_final_reward: 4.1f}\")\n",
    "\n",
    "    # update agent\n",
    "    # rewards = np.concatenate(rewards, axis=0)\n",
    "    rewards = (rewards - np.mean(rewards)) / (np.std(rewards) + 1e-9)  # normalize the reward \n",
    "    agent.learn(torch.stack(log_probs), torch.from_numpy(rewards))\n",
    "    print(\"logs prob looks like \", torch.stack(log_probs).size())\n",
    "    print(\"torch.from_numpy(rewards) looks like \", torch.from_numpy(rewards).size())"
   ],
   "metadata": {
    "collapsed": false
   }
  },
  {
   "cell_type": "markdown",
   "metadata": {
    "id": "vNb_tuFYhKVK"
   },
   "source": [
    "### Training Result\n",
    "During the training process, we recorded `avg_total_reward`, which represents the average total reward of episodes before updating the policy network.\n",
    "\n",
    "Theoretically, if the agent becomes better, the `avg_total_reward` will increase.\n",
    "The visualization of the training process is shown below:  \n"
   ]
  },
  {
   "cell_type": "code",
   "metadata": {
    "id": "wZYOI8H10SHN",
    "colab": {
     "base_uri": "https://localhost:8080/",
     "height": 452
    },
    "outputId": "4dacbc14-d7b2-4a0f-b1bd-026828810fa8",
    "ExecuteTime": {
     "end_time": "2023-06-15T08:14:05.612884378Z",
     "start_time": "2023-06-15T08:14:05.554758098Z"
    }
   },
   "source": [
    "plt.plot(avg_total_rewards)\n",
    "plt.title(\"Total Rewards\")\n",
    "plt.show()"
   ],
   "execution_count": 17,
   "outputs": [
    {
     "data": {
      "text/plain": "<Figure size 640x480 with 1 Axes>",
      "image/png": "[encoded data removed]"
     },
     "metadata": {},
     "output_type": "display_data"
    }
   ]
  },
  {
   "cell_type": "markdown",
   "metadata": {
    "id": "mV5jj4dThz0Y"
   },
   "source": [
    "In addition, `avg_final_reward` represents average final rewards of episodes. To be specific, final rewards is the last reward received in one episode, indicating whether the craft lands successfully or not.\n"
   ]
  },
  {
   "cell_type": "code",
   "metadata": {
    "id": "txDZ5vlGWz5w",
    "colab": {
     "base_uri": "https://localhost:8080/",
     "height": 452
    },
    "outputId": "f7bf47dd-168d-493b-e869-8abf70550dd8",
    "ExecuteTime": {
     "end_time": "2023-06-15T05:37:30.367416690Z",
     "start_time": "2023-06-15T05:37:30.248158469Z"
    }
   },
   "source": [
    "plt.plot(avg_final_rewards)\n",
    "plt.title(\"Final Rewards\")\n",
    "plt.show()"
   ],
   "execution_count": 51,
   "outputs": [
    {
     "data": {
      "text/plain": "<Figure size 640x480 with 1 Axes>",
      "image/png": "[encoded data removed]"
     },
     "metadata": {},
     "output_type": "display_data"
    }
   ]
  },
  {
   "cell_type": "markdown",
   "metadata": {
    "id": "u2HaGRVEYGQS"
   },
   "source": [
    "## Testing\n",
    "The testing result will be the average reward of 5 testing"
   ]
  },
  {
   "cell_type": "code",
   "execution_count": 18,
   "outputs": [
    {
     "name": "stderr",
     "output_type": "stream",
     "text": [
      "/tmp/ipykernel_156560/2282708542.py:30: UserWarning: Implicit dimension choice for softmax has been deprecated. Change the call to include dim=X as an argument.\n",
      "  action_probs = F.softmax(self.action_layer(state))\n"
     ]
    },
    {
     "name": "stdout",
     "output_type": "stream",
     "text": [
      "Episode 0\tReward: 276.24275720684295\n",
      "Episode 1\tReward: 252.66459837309395\n",
      "Episode 2\tReward: 257.59267973971805\n",
      "Episode 3\tReward: 252.24637566369978\n",
      "Episode 4\tReward: 297.09140238909265\n"
     ]
    }
   ],
   "source": [
    "fix(env, seed)\n",
    "NUM_OF_TEST = 5 # Do not revise this !!!\n",
    "test_total_reward = []\n",
    "action_list = []\n",
    "\n",
    "# policy.load_state_dict(torch.load('./{}'.format(\"LunarLander_281.pth\")))\n",
    "\n",
    "for i_episode in range(NUM_OF_TEST):\n",
    "    actions = []\n",
    "    state = env.reset()\n",
    "    total_reward = 0\n",
    "\n",
    "    # img = plt.imshow(env.render(mode='rgb_array'))\n",
    "\n",
    "    for t in range(10000):\n",
    "        action = policy(state)\n",
    "        actions.append(action)\n",
    "        state, reward, done, _ = env.step(action)\n",
    "        total_reward += reward\n",
    "\n",
    "        # img.set_data(env.render(mode='rgb_array'))\n",
    "        # display.display(plt.gcf())\n",
    "        # display.clear_output(wait=True)\n",
    "\n",
    "        if done:\n",
    "            break\n",
    "    print('Episode {}\\tReward: {}'.format(i_episode, total_reward))\n",
    "    test_total_reward.append(total_reward)\n",
    "    action_list.append(actions) # save the result of testing"
   ],
   "metadata": {
    "collapsed": false,
    "ExecuteTime": {
     "end_time": "2023-06-15T08:15:55.946511508Z",
     "start_time": "2023-06-15T08:15:55.621347644Z"
    }
   }
  },
  {
   "cell_type": "markdown",
   "source": [
    "fix(env, seed)\n",
    "agent.network.eval()  # set the network into evaluation mode\n",
    "NUM_OF_TEST = 5 # Do not revise this !!!\n",
    "test_total_reward = []\n",
    "action_list = []\n",
    "for i in range(NUM_OF_TEST):\n",
    "  actions = []\n",
    "  state = env.reset()\n",
    "\n",
    "  img = plt.imshow(env.render(mode='rgb_array'))\n",
    "\n",
    "  total_reward = 0\n",
    "\n",
    "  done = False\n",
    "  while not done:\n",
    "      action, _ = agent.sample(state)\n",
    "      actions.append(action)\n",
    "      state, reward, done, _ = env.step(action)\n",
    "\n",
    "      total_reward += reward\n",
    "\n",
    "      img.set_data(env.render(mode='rgb_array'))\n",
    "      display.display(plt.gcf())\n",
    "      display.clear_output(wait=True)\n",
    "      \n",
    "  print(total_reward)\n",
    "  test_total_reward.append(total_reward)\n",
    "\n",
    "  action_list.append(actions) # save the result of testing \n"
   ],
   "metadata": {
    "collapsed": false
   }
  },
  {
   "cell_type": "code",
   "metadata": {
    "id": "Aex7mcKr0J01",
    "colab": {
     "base_uri": "https://localhost:8080/"
    },
    "outputId": "6e5aff83-5443-4e4c-8e8f-3a288c35cf82",
    "ExecuteTime": {
     "end_time": "2023-06-14T14:55:44.688116945Z",
     "start_time": "2023-06-14T14:55:44.685454702Z"
    }
   },
   "source": [
    "print(np.mean(test_total_reward))"
   ],
   "execution_count": 182,
   "outputs": [
    {
     "name": "stdout",
     "output_type": "stream",
     "text": [
      "254.06742427455902\n"
     ]
    }
   ]
  },
  {
   "cell_type": "markdown",
   "metadata": {
    "id": "leyebGYRpqsF"
   },
   "source": [
    "Action list"
   ]
  },
  {
   "cell_type": "code",
   "metadata": {
    "id": "hGAH4YWDpp4u",
    "colab": {
     "base_uri": "https://localhost:8080/"
    },
    "outputId": "0a72e940-9393-4475-ea0e-1f3f816daec0",
    "ExecuteTime": {
     "end_time": "2023-06-14T07:23:03.099889363Z",
     "start_time": "2023-06-14T07:23:03.033058094Z"
    }
   },
   "source": [
    "print(\"Action list looks like \", action_list)\n",
    "print(\"Action list's shape looks like \", np.shape(action_list))"
   ],
   "execution_count": 93,
   "outputs": [
    {
     "name": "stdout",
     "output_type": "stream",
     "text": [
      "Action list looks like  [[3, 3, 3, 3, 3, 3, 3, 3, 3, 1, 3, 3, 3, 1, 1, 3, 1, 1, 2, 0, 2, 1, 1, 1, 3, 2, 2, 1, 1, 2, 2, 2, 1, 1, 2, 1, 1, 2, 2, 3, 2, 2, 2, 1, 2, 1, 2, 3, 2, 2, 2, 2, 1, 2, 2, 2, 1, 2, 2, 1, 2, 1, 3, 2, 3, 3, 2, 1, 1, 3, 2, 2, 2, 2, 2, 2, 2, 3, 2, 1, 2, 2, 2, 3, 2, 1, 1, 3, 2, 1, 3, 2, 2, 3, 2, 3, 2, 2, 1, 3, 2, 2, 2, 1, 2, 3, 2, 3, 2, 2, 2, 2, 2, 2, 3, 2, 3, 2, 1, 2, 3, 2, 2, 2, 2, 2, 2, 2, 3, 2, 3, 2, 3, 2, 2, 2, 2, 2, 2, 1, 2, 1, 2, 3, 2, 2, 3, 2, 2, 2, 1, 2, 2, 3, 2, 2, 1, 2, 1, 1, 2, 3, 3, 1, 2, 2, 2, 2, 2, 1, 2, 2, 1, 2, 1, 2, 1, 1, 2, 1, 3, 2, 2, 2, 2, 2, 3, 2, 2, 1, 2, 2, 3, 2, 2, 3, 2, 1, 2, 3, 2, 3, 3, 3, 3, 3, 3, 3, 3, 3], [3, 3, 2, 3, 3, 3, 3, 3, 2, 3, 2, 2, 3, 2, 3, 2, 2, 2, 3, 2, 3, 2, 3, 2, 2, 2, 1, 2, 2, 2, 2, 2, 1, 2, 2, 2, 2, 2, 1, 1, 2, 2, 2, 1, 2, 2, 1, 2, 1, 2, 1, 1, 2, 1, 1, 2, 2, 1, 1, 2, 2, 2, 1, 2, 2, 2, 2, 2, 2, 1, 2, 2, 2, 2, 1, 1, 2, 2, 2, 2, 1, 2, 2, 2, 2, 1, 2, 2, 2, 2, 0, 2, 3, 2, 2, 3, 2, 3, 3, 2, 2, 1, 1, 3, 2, 2, 3, 2, 2, 3, 3, 2, 2, 2, 2, 3, 3, 2, 2, 3, 3, 2, 2, 2, 3, 2, 2, 2, 2, 2, 3, 2, 1, 2, 1, 1, 3, 1, 2, 2, 3, 2, 2, 2, 2, 2, 2, 2, 2, 2, 0, 2, 1, 2, 1, 2, 3, 2, 0, 3, 0, 3, 2, 2, 2, 2, 2, 1, 3, 3, 3, 1, 3, 3, 3, 3], [1, 1, 1, 1, 1, 1, 1, 1, 1, 1, 1, 1, 1, 1, 1, 3, 1, 1, 1, 3, 1, 3, 3, 3, 3, 1, 3, 3, 3, 3, 3, 1, 1, 3, 2, 3, 1, 3, 3, 3, 2, 2, 2, 2, 3, 2, 3, 2, 3, 2, 2, 3, 2, 3, 2, 2, 2, 3, 0, 3, 2, 2, 0, 2, 2, 2, 2, 2, 2, 1, 2, 1, 1, 2, 2, 3, 2, 1, 2, 1, 2, 2, 1, 1, 2, 2, 1, 2, 2, 2, 2, 3, 2, 2, 3, 2, 2, 3, 0, 2, 1, 2, 2, 2, 1, 2, 3, 2, 2, 3, 2, 2, 2, 2, 2, 2, 2, 2, 3, 2, 2, 3, 2, 2, 2, 3, 2, 1, 0, 2, 2, 2, 2, 3, 1, 1, 3, 2, 2, 2, 1, 2, 2, 2, 3, 2, 2, 3, 2, 2, 1, 2, 2, 2, 1, 1, 2, 1, 2, 3, 2, 2, 2, 2, 0, 2, 2, 1, 1, 1, 2, 2, 1, 2, 2, 2, 3, 1, 2, 3, 2, 2, 1, 2, 1, 2, 2, 2, 2, 3, 3, 1, 2, 0, 2, 2, 3, 2, 1, 3, 2, 2, 1, 3, 3, 2, 2, 3, 2, 2, 3, 3, 3, 3, 3, 3, 3, 3, 3, 3, 3, 3, 1, 1, 3, 1, 3, 1, 3, 3, 3, 3, 1, 1, 1, 3, 3, 3, 1, 1, 3, 1, 1, 1, 1, 3, 1, 1, 1, 1, 1, 1, 1, 2, 3, 1, 1, 0, 1, 3, 3, 1, 3, 1, 1, 3, 1, 1, 1, 1, 1, 1, 3, 3, 1, 3, 3, 1, 1, 3, 3, 3, 3, 1, 1, 3, 3, 1, 1, 1, 1, 1, 1, 3, 1, 1, 1, 1, 1, 1, 3, 1, 1, 3, 1, 3, 1, 3, 3, 1, 3, 1, 3, 1, 1, 3, 1, 3, 1, 3, 1, 1, 1, 1, 1, 3, 3, 1, 3, 1, 1, 3, 1, 3, 1, 1, 1, 0, 1, 1, 2, 1, 1, 1, 1, 1, 1, 1, 1, 1, 1, 1, 1, 1, 1, 1, 1, 1, 1, 1, 1, 1, 1, 1, 1, 1, 1, 1, 1], [3, 3, 3, 3, 3, 3, 1, 3, 3, 1, 3, 3, 1, 1, 3, 3, 1, 3, 1, 1, 1, 3, 0, 3, 2, 3, 1, 1, 1, 1, 3, 3, 1, 2, 2, 2, 3, 2, 2, 1, 1, 3, 1, 1, 2, 2, 1, 2, 2, 2, 2, 3, 2, 2, 2, 2, 2, 2, 1, 2, 1, 2, 1, 1, 1, 2, 2, 2, 3, 2, 2, 2, 2, 2, 2, 3, 3, 3, 2, 3, 2, 2, 2, 1, 3, 3, 2, 2, 2, 2, 2, 2, 3, 2, 2, 3, 2, 1, 2, 3, 2, 1, 3, 2, 2, 2, 2, 3, 2, 1, 2, 2, 2, 2, 3, 2, 0, 2, 1, 2, 2, 2, 3, 2, 2, 0, 2, 2, 2, 1, 1, 2, 1, 2, 2, 2, 3, 2, 1, 2, 2, 2, 3, 3, 2, 3, 1, 3, 2, 1, 2, 2, 2, 2, 2, 3, 1, 2, 2, 2, 1, 2, 3, 2, 3, 2, 2, 3, 3, 2, 2, 1, 3, 2, 2, 3, 2, 2, 2, 2, 2, 1, 2, 2, 2, 2, 3, 2, 2, 1, 2, 2, 1, 3, 2, 2, 2, 1, 2, 2, 1, 1, 2, 2, 2, 1, 1, 1, 1, 1, 1, 1, 1, 1, 1, 1, 1, 1, 1, 1, 1, 1, 1, 1, 1, 1, 1, 1, 1, 1, 1, 3, 1, 1, 1, 1, 1, 1, 1, 1, 1, 1, 1, 1, 1, 1, 1, 1, 1, 1, 1, 1, 1, 1, 1, 1, 1, 1, 1, 1, 1], [3, 3, 3, 1, 3, 3, 3, 3, 1, 2, 1, 1, 1, 3, 1, 1, 2, 3, 1, 3, 2, 2, 2, 1, 2, 2, 1, 1, 2, 2, 2, 3, 2, 3, 2, 2, 1, 2, 3, 2, 1, 3, 2, 2, 3, 2, 2, 2, 2, 2, 3, 3, 1, 2, 2, 2, 3, 1, 2, 1, 2, 2, 2, 2, 2, 2, 3, 1, 1, 2, 3, 2, 2, 3, 2, 3, 2, 2, 1, 2, 2, 1, 2, 2, 2, 3, 2, 2, 2, 3, 1, 2, 2, 2, 1, 2, 3, 2, 2, 1, 2, 2, 1, 2, 1, 2, 3, 2, 2, 3, 1, 2, 2, 2, 3, 1, 1, 2, 3, 2, 2, 2, 3, 2, 2, 2, 3, 2, 2, 1, 1, 2, 3, 3, 3, 2, 3, 2, 2, 3, 2, 2, 2, 2, 2, 2, 1, 3, 2, 1, 2, 3, 3, 0, 1, 3, 2, 2, 1, 2, 2, 2, 2, 2, 1, 1, 2, 2, 2, 1, 2, 2, 1, 1, 3, 3, 2, 0, 2, 2, 2, 2, 1, 2, 1, 1, 1, 3, 1, 3, 2, 1, 3, 3, 3, 3, 3, 3, 1]]\n",
      "Action list's shape looks like  (5,)\n"
     ]
    }
   ]
  },
  {
   "cell_type": "markdown",
   "metadata": {
    "id": "fNkmwucrHMen"
   },
   "source": [
    "Analysis of actions taken by agent"
   ]
  },
  {
   "cell_type": "code",
   "metadata": {
    "id": "WHdAItjj1nxw",
    "colab": {
     "base_uri": "https://localhost:8080/"
    },
    "outputId": "7b7010f3-fb1a-4d6f-8012-be5aa98794a5",
    "ExecuteTime": {
     "end_time": "2023-06-15T08:16:06.826029283Z",
     "start_time": "2023-06-15T08:16:06.803321926Z"
    }
   },
   "source": [
    "distribution = {}\n",
    "for actions in action_list:\n",
    "  for action in actions:\n",
    "    if action not in distribution.keys():\n",
    "      distribution[action] = 1\n",
    "    else:\n",
    "      distribution[action] += 1\n",
    "print(distribution)"
   ],
   "execution_count": 19,
   "outputs": [
    {
     "name": "stdout",
     "output_type": "stream",
     "text": [
      "{0: 471, 3: 115, 2: 463, 1: 103}\n"
     ]
    }
   ]
  },
  {
   "cell_type": "markdown",
   "metadata": {
    "id": "ricE0schY75M"
   },
   "source": [
    "Saving the result of Model Testing\n"
   ]
  },
  {
   "cell_type": "code",
   "metadata": {
    "id": "GZsMkGmIY42b",
    "colab": {
     "base_uri": "https://localhost:8080/"
    },
    "outputId": "e9cee503-177a-462e-9298-5e5752b3e451",
    "ExecuteTime": {
     "end_time": "2023-06-15T08:16:09.783620633Z",
     "start_time": "2023-06-15T08:16:09.780889223Z"
    }
   },
   "source": [
    "PATH = \"Action_List.npy\" # Can be modified into the name or path you want\n",
    "np.save(PATH ,np.array(action_list)) "
   ],
   "execution_count": 20,
   "outputs": [
    {
     "name": "stderr",
     "output_type": "stream",
     "text": [
      "/tmp/ipykernel_156560/431433689.py:2: VisibleDeprecationWarning: Creating an ndarray from ragged nested sequences (which is a list-or-tuple of lists-or-tuples-or ndarrays with different lengths or shapes) is deprecated. If you meant to do this, you must specify 'dtype=object' when creating the ndarray.\n",
      "  np.save(PATH ,np.array(action_list))\n"
     ]
    }
   ]
  },
  {
   "cell_type": "markdown",
   "metadata": {
    "id": "asK7WfbkaLjt"
   },
   "source": [
    "### This is the file you need to submit !!!\n",
    "Download the testing result to your device\n",
    "\n"
   ]
  },
  {
   "cell_type": "code",
   "metadata": {
    "id": "c-CqyhHzaWAL",
    "colab": {
     "base_uri": "https://localhost:8080/",
     "height": 17
    },
    "outputId": "d492cd1f-d843-4eb8-9a4a-b3bd6eae04d9"
   },
   "source": [
    "from google.colab import files\n",
    "files.download(PATH)"
   ],
   "execution_count": null,
   "outputs": [
    {
     "output_type": "display_data",
     "data": {
      "text/plain": [
       "<IPython.core.display.Javascript object>"
      ],
      "application/javascript": [
       "\n",
       "    async function download(id, filename, size) {\n",
       "      if (!google.colab.kernel.accessAllowed) {\n",
       "        return;\n",
       "      }\n",
       "      const div = document.createElement('div');\n",
       "      const label = document.createElement('label');\n",
       "      label.textContent = `Downloading \"${filename}\": `;\n",
       "      div.appendChild(label);\n",
       "      const progress = document.createElement('progress');\n",
       "      progress.max = size;\n",
       "      div.appendChild(progress);\n",
       "      document.body.appendChild(div);\n",
       "\n",
       "      const buffers = [];\n",
       "      let downloaded = 0;\n",
       "\n",
       "      const channel = await google.colab.kernel.comms.open(id);\n",
       "      // Send a message to notify the kernel that we're ready.\n",
       "      channel.send({})\n",
       "\n",
       "      for await (const message of channel.messages) {\n",
       "        // Send a message to notify the kernel that we're ready.\n",
       "        channel.send({})\n",
       "        if (message.buffers) {\n",
       "          for (const buffer of message.buffers) {\n",
       "            buffers.push(buffer);\n",
       "            downloaded += buffer.byteLength;\n",
       "            progress.value = downloaded;\n",
       "          }\n",
       "        }\n",
       "      }\n",
       "      const blob = new Blob(buffers, {type: 'application/binary'});\n",
       "      const a = document.createElement('a');\n",
       "      a.href = window.URL.createObjectURL(blob);\n",
       "      a.download = filename;\n",
       "      div.appendChild(a);\n",
       "      a.click();\n",
       "      div.remove();\n",
       "    }\n",
       "  "
      ]
     },
     "metadata": {}
    },
    {
     "output_type": "display_data",
     "data": {
      "text/plain": [
       "<IPython.core.display.Javascript object>"
      ],
      "application/javascript": [
       "download(\"download_1a8e7903-a12b-4522-a66b-8b66c7299980\", \"Action_List.npy\", 2293)"
      ]
     },
     "metadata": {}
    }
   ]
  },
  {
   "cell_type": "markdown",
   "metadata": {
    "id": "seT4NUmWmAZ1"
   },
   "source": [
    "# Server \n",
    "The code below simulate the environment on the judge server. Can be used for testing."
   ]
  },
  {
   "cell_type": "code",
   "metadata": {
    "id": "U69c-YTxaw6b",
    "colab": {
     "base_uri": "https://localhost:8080/",
     "height": 481
    },
    "outputId": "f32f26a4-4d97-44b7-c2e9-1f69d87afb2d",
    "ExecuteTime": {
     "end_time": "2023-06-15T08:16:29.479363257Z",
     "start_time": "2023-06-15T08:16:29.120576542Z"
    }
   },
   "source": [
    "action_list = np.load(PATH,allow_pickle=True) # The action list you upload\n",
    "seed = 2023 # Do not revise this\n",
    "fix(env, seed)\n",
    "\n",
    "# agent.network.eval()  # set network to evaluation mode\n",
    "\n",
    "test_total_reward = []\n",
    "if len(action_list) != 5:\n",
    "  print(\"Wrong format of file !!!\")\n",
    "  exit(0)\n",
    "for actions in action_list:\n",
    "  state = env.reset()\n",
    "  img = plt.imshow(env.render(mode='rgb_array'))\n",
    "\n",
    "  total_reward = 0\n",
    "\n",
    "  done = False\n",
    "\n",
    "  for action in actions:\n",
    "  \n",
    "      state, reward, done, _ = env.step(action)\n",
    "      total_reward += reward\n",
    "      if done:\n",
    "        break\n",
    "\n",
    "  print(f\"Your reward is : %.2f\"%total_reward)\n",
    "  test_total_reward.append(total_reward)"
   ],
   "execution_count": 21,
   "outputs": [
    {
     "name": "stdout",
     "output_type": "stream",
     "text": [
      "Your reward is : 276.24\n",
      "Your reward is : 252.66\n",
      "Your reward is : 257.59\n",
      "Your reward is : 252.25\n",
      "Your reward is : 297.09\n"
     ]
    },
    {
     "data": {
      "text/plain": "<Figure size 640x480 with 1 Axes>",
      "image/png": "[encoded data removed]"
     },
     "metadata": {},
     "output_type": "display_data"
    }
   ]
  },
  {
   "cell_type": "markdown",
   "metadata": {
    "id": "TjFBWwQP1hVe"
   },
   "source": [
    "# Your score"
   ]
  },
  {
   "cell_type": "code",
   "metadata": {
    "id": "GpJpZz3Wbm0X",
    "colab": {
     "base_uri": "https://localhost:8080/"
    },
    "outputId": "08adba66-0ac6-4ba1-baf0-92ef5cbcdab7",
    "ExecuteTime": {
     "end_time": "2023-06-15T08:16:32.159253374Z",
     "start_time": "2023-06-15T08:16:32.154799058Z"
    }
   },
   "source": [
    "print(f\"Your final reward is : %.2f\"%np.mean(test_total_reward))"
   ],
   "execution_count": 22,
   "outputs": [
    {
     "name": "stdout",
     "output_type": "stream",
     "text": [
      "Your final reward is : 267.17\n"
     ]
    }
   ]
  },
  {
   "cell_type": "markdown",
   "metadata": {
    "id": "wUBtYXG2eaqf"
   },
   "source": [
    "## Reference\n",
    "\n",
    "Below are some useful tips for you to get high score.\n",
    "\n",
    "- [DRL Lecture 1: Policy Gradient (Review)](https://youtu.be/z95ZYgPgXOY)\n",
    "- [ML Lecture 23-3: Reinforcement Learning (including Q-learning) start at 30:00](https://youtu.be/2-JNBzCq77c?t=1800)\n",
    "- [Lecture 7: Policy Gradient, David Silver](http://www0.cs.ucl.ac.uk/staff/d.silver/web/Teaching_files/pg.pdf)\n"
   ]
  }
 ]
}
